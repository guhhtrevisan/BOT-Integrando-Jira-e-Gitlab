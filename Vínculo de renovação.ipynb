{
 "cells": [
  {
   "cell_type": "markdown",
   "metadata": {
    "application/vnd.databricks.v1+cell": {
     "cellMetadata": {
      "byteLimit": 2048000,
      "rowLimit": 10000
     },
     "inputWidgets": {},
     "nuid": "0aad0a2c-5c28-4cd3-a98f-b25472fdbea9",
     "showTitle": false,
     "title": ""
    }
   },
   "source": [
    "## AUTOMAÇÃO DA SOLICITAÇÃO DO VÍNCULO DE RENOVAÇÃO"
   ]
  },
  {
   "cell_type": "code",
   "execution_count": 0,
   "metadata": {
    "application/vnd.databricks.v1+cell": {
     "cellMetadata": {
      "byteLimit": 2048000,
      "rowLimit": 10000
     },
     "inputWidgets": {},
     "nuid": "273c2b00-c1b7-457b-99a4-b36f4a8707b8",
     "showTitle": false,
     "title": ""
    }
   },
   "outputs": [
    {
     "output_type": "display_data",
     "data": {
      "text/html": [
       "<style scoped>\n",
       "  .ansiout {\n",
       "    display: block;\n",
       "    unicode-bidi: embed;\n",
       "    white-space: pre-wrap;\n",
       "    word-wrap: break-word;\n",
       "    word-break: break-all;\n",
       "    font-family: \"Menlo\", \"Monaco\", \"Consolas\", \"Ubuntu Mono\", \"Source Code Pro\", monospace;\n",
       "    font-size: 13px;\n",
       "    color: #555;\n",
       "    margin-left: 4px;\n",
       "    line-height: 19px;\n",
       "  }\n",
       "</style>"
      ]
     },
     "metadata": {
      "application/vnd.databricks.v1+output": {
       "arguments": {},
       "data": "",
       "errorSummary": "Cancelled",
       "errorTraceType": "html",
       "metadata": {},
       "type": "ipynbError"
      }
     },
     "output_type": "display_data"
    }
   ],
   "source": [
    "### Instalação de bibliotecas\n",
    "##---------------------------\n",
    "\n",
    "%pip install jira python-gitlab"
   ]
  },
  {
   "cell_type": "code",
   "execution_count": 0,
   "metadata": {
    "application/vnd.databricks.v1+cell": {
     "cellMetadata": {
      "byteLimit": 2048000,
      "rowLimit": 10000
     },
     "inputWidgets": {},
     "nuid": "d36f54b8-ad2c-4f08-b67d-2edb21ec72e8",
     "showTitle": false,
     "title": ""
    }
   },
   "outputs": [
    {
     "output_type": "display_data",
     "data": {
      "text/html": [
       "<style scoped>\n",
       "  .ansiout {\n",
       "    display: block;\n",
       "    unicode-bidi: embed;\n",
       "    white-space: pre-wrap;\n",
       "    word-wrap: break-word;\n",
       "    word-break: break-all;\n",
       "    font-family: \"Menlo\", \"Monaco\", \"Consolas\", \"Ubuntu Mono\", \"Source Code Pro\", monospace;\n",
       "    font-size: 13px;\n",
       "    color: #555;\n",
       "    margin-left: 4px;\n",
       "    line-height: 19px;\n",
       "  }\n",
       "</style>"
      ]
     },
     "metadata": {
      "application/vnd.databricks.v1+output": {
       "arguments": {},
       "data": "",
       "errorSummary": "Command skipped",
       "errorTraceType": "html",
       "metadata": {},
       "type": "ipynbError"
      }
     },
     "output_type": "display_data"
    }
   ],
   "source": [
    "# Bibliotecas\n",
    "import mysql.connector\n",
    "import pandas as pd\n",
    "import gitlab\n",
    "import time\n",
    "from jira import JIRA\n",
    "from datetime import datetime\n",
    "from AVITA.automacoes import funcoes as f"
   ]
  },
  {
   "cell_type": "markdown",
   "metadata": {
    "application/vnd.databricks.v1+cell": {
     "cellMetadata": {
      "byteLimit": 2048000,
      "rowLimit": 10000
     },
     "inputWidgets": {},
     "nuid": "df8860b8-97df-4ed1-b85e-aa67b97e69de",
     "showTitle": false,
     "title": ""
    }
   },
   "source": [
    "### DataFrames"
   ]
  },
  {
   "cell_type": "code",
   "execution_count": 0,
   "metadata": {
    "application/vnd.databricks.v1+cell": {
     "cellMetadata": {
      "byteLimit": 2048000,
      "rowLimit": 10000
     },
     "inputWidgets": {},
     "nuid": "6644c2cd-a9e5-4e52-8e9c-e586bfa6d4f1",
     "showTitle": false,
     "title": ""
    }
   },
   "outputs": [
    {
     "output_type": "display_data",
     "data": {
      "text/html": [
       "<style scoped>\n",
       "  .ansiout {\n",
       "    display: block;\n",
       "    unicode-bidi: embed;\n",
       "    white-space: pre-wrap;\n",
       "    word-wrap: break-word;\n",
       "    word-break: break-all;\n",
       "    font-family: \"Menlo\", \"Monaco\", \"Consolas\", \"Ubuntu Mono\", \"Source Code Pro\", monospace;\n",
       "    font-size: 13px;\n",
       "    color: #555;\n",
       "    margin-left: 4px;\n",
       "    line-height: 19px;\n",
       "  }\n",
       "</style>"
      ]
     },
     "metadata": {
      "application/vnd.databricks.v1+output": {
       "arguments": {},
       "data": "",
       "errorSummary": "Command skipped",
       "errorTraceType": "html",
       "metadata": {},
       "type": "ipynbError"
      }
     },
     "output_type": "display_data"
    }
   ],
   "source": [
    "### Configura conexão com o banco de dados do Financeiro: db-financeiro\n",
    "#-----------------------------------------------------------------------------\n",
    "jdbcUserFinanceiro = dbutils.secrets.get(scope = personal_scope, key = personal_key)\n",
    "jdbcPasswordFinanceiro = dbutils.secrets.get(scope = personal_scope, key = personal_key)\n",
    "jdbcHostnameFinanceiro = dbutils.secrets.get(scope = personal_scope, key = personal_key)\n",
    "jdbcDatabaseFinanceiro = dbutils.secrets.get(scope = personal_scope, key = personal_key)\n",
    "jdbcPort = personal_port\n",
    "tabela_pre_prod = \"table_name\"\n",
    "tabela_processados = \"table_name\"\n",
    "\n",
    "jdbcUrlFinanceiro = \"jdbc:mysql://{0}:{1}/{2}\".format(jdbcHostnameFinanceiro, jdbcPort, jdbcDatabaseFinanceiro)\n",
    "\n",
    "connectionPropertiesFinanceiro = {\n",
    "  \"user\" : jdbcUserFinanceiro,\n",
    "  \"password\" : jdbcPasswordFinanceiro,\n",
    "  \"driver\" : \"com.mysql.jdbc.Driver\"\n",
    "}\n",
    "\n",
    "# Informações de conexão\n",
    "config = {\n",
    "    'user': jdbcUserFinanceiro,\n",
    "    'password': jdbcPasswordFinanceiro,\n",
    "    'host': jdbcHostnameFinanceiro,\n",
    "    'database': jdbcDatabaseFinanceiro,\n",
    "    'port': jdbcPort\n",
    "}\n",
    "\n",
    "# Conecta ao banco de dados\n",
    "connection = mysql.connector.connect(**config)\n",
    "\n",
    "# Executa uma consulta SQL e obtém os resultados como um DataFrame do Pandas\n",
    "query_pre_prod = f\"SELECT * FROM {tabela_pre_prod}\"\n",
    "df_pre_prod = pd.read_sql(query_pre_prod, con=connection)\n",
    "\n",
    "query_processados = f\"SELECT * FROM {tabela_processados}\"\n",
    "df_processados = pd.read_sql(query_processados, con=connection)\n",
    "\n",
    "# Conexão não é fechada pois será utilizada para inserir dados"
   ]
  },
  {
   "cell_type": "code",
   "execution_count": 0,
   "metadata": {
    "application/vnd.databricks.v1+cell": {
     "cellMetadata": {
      "byteLimit": 2048000,
      "rowLimit": 10000
     },
     "inputWidgets": {},
     "nuid": "2d44c5f7-a897-470a-bba4-8e9a7991b51e",
     "showTitle": false,
     "title": ""
    }
   },
   "outputs": [
    {
     "output_type": "display_data",
     "data": {
      "text/html": [
       "<style scoped>\n",
       "  .ansiout {\n",
       "    display: block;\n",
       "    unicode-bidi: embed;\n",
       "    white-space: pre-wrap;\n",
       "    word-wrap: break-word;\n",
       "    word-break: break-all;\n",
       "    font-family: \"Menlo\", \"Monaco\", \"Consolas\", \"Ubuntu Mono\", \"Source Code Pro\", monospace;\n",
       "    font-size: 13px;\n",
       "    color: #555;\n",
       "    margin-left: 4px;\n",
       "    line-height: 19px;\n",
       "  }\n",
       "</style>"
      ]
     },
     "metadata": {
      "application/vnd.databricks.v1+output": {
       "arguments": {},
       "data": "",
       "errorSummary": "Command skipped",
       "errorTraceType": "html",
       "metadata": {},
       "type": "ipynbError"
      }
     },
     "output_type": "display_data"
    }
   ],
   "source": [
    "### Configura conexão com o banco de dados ReportDB\n",
    "#-----------------------------------------------------------------------------\n",
    "\n",
    "# Configurações\n",
    "host = dbutils.secrets.get(scope = personal_scope, key = personal_key)\n",
    "port = personal_port\n",
    "user = dbutils.secrets.get(scope = personal_scope, key = personal_key)\n",
    "password = dbutils.secrets.get(scope = personal_scope, key = personal_key)\n",
    "database = dbutils.secrets.get(scope = personal_scope, key = personal_key)\n",
    "tabela_op_policy = 'table_name'\n",
    "tabela_renew = 'table_name'\n",
    "tabela_core_user = 'table_name'\n",
    "\n",
    "# Informações de conexão\n",
    "config = {\n",
    "    'user': user,\n",
    "    'password': password,\n",
    "    'host': host,\n",
    "    'database': database,\n",
    "    'port': port\n",
    "}\n",
    "\n",
    "# Criar a conexão com o banco de dados MySQL\n",
    "connection = mysql.connector.connect(**config)\n",
    "\n",
    "# Executar a consulta SQL para obter os dados da tabela\n",
    "query_op_policy = f\"SELECT * FROM {tabela_op_policy}\"\n",
    "df_op_policy = pd.read_sql(query_op_policy, con=connection)\n",
    "\n",
    "query_op_policy_renew = f\"SELECT * FROM {tabela_renew}\"\n",
    "df_op_policy_renew = pd.read_sql(query_op_policy_renew, con=connection)\n",
    "\n",
    "query_core_user = f\"SELECT * FROM {tabela_core_user}\"\n",
    "df_core_user = pd.read_sql(query_core_user, con=connection)\n",
    "\n",
    "query_op_policy_tratado = f\"\"\" \n",
    "select *\n",
    "from {tabela_op_policy}\n",
    "where true \n",
    "AND (cláusulas específicas da tabela em questão para tratamento de possíveis apólices com erro)\"\"\"\n",
    "df_op_policy_tratado = pd.read_sql(query_op_policy_tratado, con=connection)\n",
    "\n",
    "# Fecha a conexão\n",
    "connection.close()"
   ]
  },
  {
   "cell_type": "markdown",
   "metadata": {
    "application/vnd.databricks.v1+cell": {
     "cellMetadata": {
      "byteLimit": 2048000,
      "rowLimit": 10000
     },
     "inputWidgets": {},
     "nuid": "3c54f304-0821-449b-93e1-03f6fc163ec2",
     "showTitle": false,
     "title": ""
    }
   },
   "source": [
    "### Processo de verificação e validação"
   ]
  },
  {
   "cell_type": "code",
   "execution_count": 0,
   "metadata": {
    "application/vnd.databricks.v1+cell": {
     "cellMetadata": {
      "byteLimit": 2048000,
      "rowLimit": 10000
     },
     "inputWidgets": {},
     "nuid": "ed48ec92-f878-4d84-ace3-c45dc18c8483",
     "showTitle": false,
     "title": ""
    }
   },
   "outputs": [
    {
     "output_type": "display_data",
     "data": {
      "text/html": [
       "<style scoped>\n",
       "  .ansiout {\n",
       "    display: block;\n",
       "    unicode-bidi: embed;\n",
       "    white-space: pre-wrap;\n",
       "    word-wrap: break-word;\n",
       "    word-break: break-all;\n",
       "    font-family: \"Menlo\", \"Monaco\", \"Consolas\", \"Ubuntu Mono\", \"Source Code Pro\", monospace;\n",
       "    font-size: 13px;\n",
       "    color: #555;\n",
       "    margin-left: 4px;\n",
       "    line-height: 19px;\n",
       "  }\n",
       "</style>"
      ]
     },
     "metadata": {
      "application/vnd.databricks.v1+output": {
       "arguments": {},
       "data": "",
       "errorSummary": "Command skipped",
       "errorTraceType": "html",
       "metadata": {},
       "type": "ipynbError"
      }
     },
     "output_type": "display_data"
    }
   ],
   "source": [
    "# Atribuindo ID's dos dataframes em listas para o processo de verificação\n",
    "\n",
    "ids_pre_prod = df_pre_prod['id'].to_list()\n",
    "ids_processados = df_processados['id_pre_prod'].to_list()\n",
    "ids_operational_policy = df_op_policy_tratado['id'].to_list()\n",
    "ids_operational_policy_completa = df_op_policy['id'].to_list()\n",
    "ids_old_pre_prod = df_pre_prod['id_policy_old'].to_list()\n",
    "ids_new_pre_prod = df_pre_prod['id_policy_new'].to_list()\n",
    "ids_old_renew = df_op_policy_renew['id_policy_old'].to_list()\n",
    "ids_new_renew = df_op_policy_renew['id_policy_new'].to_list()\n",
    "status_renew_aceitaveis = [1, 2, 3, 5] \n",
    "DePara_status_renew = {\n",
    "  1 : \"Notificação enviada\",\n",
    "  2 : \"Em cancelamento\",\n",
    "  3 : \"Em renovação\",\n",
    "  4 : \"Renovação feita\",\n",
    "  5 : \"Cancelada\"\n",
    "}"
   ]
  },
  {
   "cell_type": "code",
   "execution_count": 0,
   "metadata": {
    "application/vnd.databricks.v1+cell": {
     "cellMetadata": {
      "byteLimit": 2048000,
      "rowLimit": 10000
     },
     "inputWidgets": {},
     "nuid": "a896f3d9-1150-41dc-bde6-e0951c0a1e30",
     "showTitle": false,
     "title": ""
    }
   },
   "outputs": [
    {
     "output_type": "display_data",
     "data": {
      "text/html": [
       "<style scoped>\n",
       "  .ansiout {\n",
       "    display: block;\n",
       "    unicode-bidi: embed;\n",
       "    white-space: pre-wrap;\n",
       "    word-wrap: break-word;\n",
       "    word-break: break-all;\n",
       "    font-family: \"Menlo\", \"Monaco\", \"Consolas\", \"Ubuntu Mono\", \"Source Code Pro\", monospace;\n",
       "    font-size: 13px;\n",
       "    color: #555;\n",
       "    margin-left: 4px;\n",
       "    line-height: 19px;\n",
       "  }\n",
       "</style>"
      ]
     },
     "metadata": {
      "application/vnd.databricks.v1+output": {
       "arguments": {},
       "data": "",
       "errorSummary": "Command skipped",
       "errorTraceType": "html",
       "metadata": {},
       "type": "ipynbError"
      }
     },
     "output_type": "display_data"
    }
   ],
   "source": [
    "# Lista de ID's pre_prod para fazer o vínculo\n",
    "IDs_vincular = []\n",
    "renegados = []\n",
    "\n",
    "# Listas com logs de erro\n",
    "erro_0 = [] # id_new consta endossado, mas tem correlation diferente do id_old\n",
    "erro_1 = [] # id_new tem renovação vigente como id_new\n",
    "erro_2 = [] # id_old tem renovação vigente como id_old\n",
    "erro_3 = [] # id_old não pode ser renovado por ter status diferente de: Ativo, expirado ou endossado\n",
    "erro_4 = [] # id_new não pode ser renovado por ter status diferente de: Ativo, expirado ou endossado\n",
    "erro_5 = [] # id_old é um endosso de cancelamento\n",
    "erro_6 = [] # id_new é um endosso de cancelamento\n",
    "erro_7 = [] # id_old não possui número de apólice\n",
    "erro_8 = [] # id_new não possui número de apólice\n",
    "erro_9 = [] # id_old não possui data de emissão\n",
    "erro_10 = [] # id_new não possui data de emissão\n",
    "erro_11 = [] # id_old não encontrado\n",
    "erro_12 = [] # id_new não encontrado\n",
    "erro_13 = [] # id_old cancelado logicamente\n",
    "erro_14 = [] # id_new cancelado logicamente"
   ]
  },
  {
   "cell_type": "code",
   "execution_count": 0,
   "metadata": {
    "application/vnd.databricks.v1+cell": {
     "cellMetadata": {
      "byteLimit": 2048000,
      "rowLimit": 10000
     },
     "inputWidgets": {},
     "nuid": "da4e84a2-4752-45e2-8709-4f2a5ea96103",
     "showTitle": false,
     "title": ""
    }
   },
   "outputs": [
    {
     "output_type": "display_data",
     "data": {
      "text/html": [
       "<style scoped>\n",
       "  .ansiout {\n",
       "    display: block;\n",
       "    unicode-bidi: embed;\n",
       "    white-space: pre-wrap;\n",
       "    word-wrap: break-word;\n",
       "    word-break: break-all;\n",
       "    font-family: \"Menlo\", \"Monaco\", \"Consolas\", \"Ubuntu Mono\", \"Source Code Pro\", monospace;\n",
       "    font-size: 13px;\n",
       "    color: #555;\n",
       "    margin-left: 4px;\n",
       "    line-height: 19px;\n",
       "  }\n",
       "</style>"
      ]
     },
     "metadata": {
      "application/vnd.databricks.v1+output": {
       "arguments": {},
       "data": "",
       "errorSummary": "Command skipped",
       "errorTraceType": "html",
       "metadata": {},
       "type": "ipynbError"
      }
     },
     "output_type": "display_data"
    }
   ],
   "source": [
    "### Passo a Passo processo de verificação: Validar se o vínculo pode ser feito\n",
    "\n",
    "# 1. Verifica se o id na tabela pre_prod já existe na tabela de processados.\n",
    "  # Se já existe, ignora, pois é uma solicitação antiga;\n",
    "  # Se não existe, então é uma solicitação nova;\n",
    "\n",
    "# 2. Verifica se o ID new e old existem no DataFrame operational_policy_tratado\n",
    "  # OBS: Operational_policy_tratado é a tabela operational_policy com os seguintes tratamentos: \n",
    "    # ID's sem logical delete;\n",
    "    # Com data de emissão;\n",
    "    # Com número de apólice;\n",
    "    # Dentro dos status: ativo, expirado e endossado;\n",
    "    # Que não seja endosso de cancelamento;\n",
    "\n",
    "  # 3. Se estiver, então verifica se o ID old já está na tabela operational_policy_renew com renovação vigente como ID old, isto é:\n",
    "    # Se está na operational_policy_renew com status = 4 e sem data de delete lógico;\n",
    "    # Se sim, inclui esse ID na lista de solicitações com erro;\n",
    "     \n",
    "  # 4. Se não, verifica se o ID new já tem renovação vigente como ID new;\n",
    "    # Se sim, inclui esse ID na lista de solicitações com erro;\n",
    "\n",
    "  # 5. Se não, verifica se o ID new é um endosso (type = 43)\n",
    "    # Se não, inclui na lista de solicitações a serem feitas;\n",
    "    # 6. Se sim, verifica se o ID new e old estão no mesmo correlation;\n",
    "      # Se não, inclui esse ID na lista de solicitações com erro;\n",
    "      # Se sim, inclui na lista de solicitações a serem feitas;\n",
    "  \n",
    "# 7. Se alugm dos ID's (new ou old) não for encontrado no DataFrame operational_policy_tratado, o BOT verifica qual o erro e inclui na lista de solicitações com erro:\n",
    "  # ID new ou old não existe no banco;\n",
    "  # ID new ou old com status diferente de: Ativo, expirado ou endossado;\n",
    "  # ID new ou old é endosso de cancelamento;\n",
    "  # ID new ou old não tem número de apólice;\n",
    "  # ID new ou old não tem data de emissão;\n",
    "  # ID new ou old está deletado logicamente."
   ]
  },
  {
   "cell_type": "code",
   "execution_count": 0,
   "metadata": {
    "application/vnd.databricks.v1+cell": {
     "cellMetadata": {
      "byteLimit": 2048000,
      "rowLimit": 10000
     },
     "inputWidgets": {},
     "nuid": "788282d0-c238-484c-92ef-0ad71005ba66",
     "showTitle": false,
     "title": ""
    }
   },
   "outputs": [
    {
     "output_type": "display_data",
     "data": {
      "text/html": [
       "<style scoped>\n",
       "  .ansiout {\n",
       "    display: block;\n",
       "    unicode-bidi: embed;\n",
       "    white-space: pre-wrap;\n",
       "    word-wrap: break-word;\n",
       "    word-break: break-all;\n",
       "    font-family: \"Menlo\", \"Monaco\", \"Consolas\", \"Ubuntu Mono\", \"Source Code Pro\", monospace;\n",
       "    font-size: 13px;\n",
       "    color: #555;\n",
       "    margin-left: 4px;\n",
       "    line-height: 19px;\n",
       "  }\n",
       "</style>"
      ]
     },
     "metadata": {
      "application/vnd.databricks.v1+output": {
       "arguments": {},
       "data": "",
       "errorSummary": "Command skipped",
       "errorTraceType": "html",
       "metadata": {},
       "type": "ipynbError"
      }
     },
     "output_type": "display_data"
    }
   ],
   "source": [
    "### Verificação para validar se de fato o vínculo pode ser realizado\n",
    "\n",
    "for i, id in enumerate(ids_pre_prod):\n",
    "  # 1. Verifica se o id na tabela pre_prod já existe na tabela de processados\n",
    "  if id not in ids_processados:\n",
    "    # 2. Verifica se o ID new e old existem no DataFrame operational_policy_tratado\n",
    "    if ids_old_pre_prod[i] in ids_operational_policy and ids_new_pre_prod[i] in ids_operational_policy:\n",
    "      # 3. Se estiver, então verifica se o ID old já está na tabela operational_policy_renew com renovação vigente\n",
    "      if ids_old_pre_prod[i] not in ids_old_renew or df_op_policy_renew.loc[df_op_policy_renew['id_policy_old'] == int(ids_old_pre_prod[i]), \"status\"].iloc[0] in status_renew_aceitaveis or not df_op_policy_renew.loc[df_op_policy_renew['id_policy_old'] == int(ids_old_pre_prod[i]), \"dt_logical_delete\"].isna().all():\n",
    "        # 4. Se não, verifica se o ID new já tem renovação vigente\n",
    "        if not ids_new_pre_prod[i] in ids_new_renew or df_op_policy_renew.loc[df_op_policy_renew['id_policy_new'] == int(ids_new_pre_prod[i]), \"status\"].iloc[0] in status_renew_aceitaveis or not df_op_policy_renew.loc[df_op_policy_renew['id_policy_new'] == int(ids_new_pre_prod[i]), \"dt_logical_delete\"].isna().all():\n",
    "          # 5. Se não, verifica se o ID new é um endosso\n",
    "          if df_op_policy_tratado.loc[df_op_policy_tratado['id'] == ids_new_pre_prod[i], 'id_enum_type_solicitation'].iloc[0] == 43:\n",
    "            # 6. Se sim, verifica se o ID new e old estão no mesmo correlation;\n",
    "            if df_op_policy_tratado.loc[df_op_policy_tratado['id'] == ids_new_pre_prod[i], 'txt_correlation_id'].iloc[0] == df_op_policy_tratado.loc[df_op_policy_tratado['id'] == ids_old_pre_prod[i], 'txt_correlation_id'].iloc[0]:\n",
    "              IDs_vincular.append(id)\n",
    "            else:\n",
    "              erro_0.append(id)\n",
    "          else:\n",
    "            IDs_vincular.append(id)\n",
    "        else:\n",
    "          erro_1.append(id)\n",
    "      else:\n",
    "        erro_2.append(id)\n",
    "\n",
    "\n",
    "    # 7. Se alugm dos ID's (new ou old) não for encontrado no DataFrame operational_policy_tratado, o BOT verifica qual o erro\n",
    "\n",
    "    # ID new ou old não existe no banco\n",
    "    elif not ids_old_pre_prod[i] in ids_operational_policy_completa:\n",
    "      erro_11.append(id)\n",
    "    elif not ids_new_pre_prod[i] in ids_operational_policy_completa:\n",
    "      erro_12.append(id)\n",
    "    \n",
    "    # ID new ou old com status diferente de: Ativo, expirado ou endossado\n",
    "    elif not df_op_policy.loc[df_op_policy['id'] == int(ids_old_pre_prod[i]), 'Status'].iloc[0] in [6, 8, 17]:\n",
    "      erro_3.append(id)\n",
    "    elif not df_op_policy.loc[df_op_policy['id'] == int(ids_new_pre_prod[i]), 'Status'].iloc[0] in [6, 8, 17]:\n",
    "      erro_4.append(id)\n",
    "\n",
    "    # ID new ou old é endosso de cancelamento\n",
    "    elif df_op_policy.loc[df_op_policy['id'] == int(ids_old_pre_prod[i]), 'enum_endorsement_type'].iloc[0] == 1:\n",
    "      erro_5.append(id)\n",
    "    elif df_op_policy.loc[df_op_policy['id'] == int(ids_new_pre_prod[i]), 'enum_endorsement_type'].iloc[0] == 1:\n",
    "      erro_6.append(id)\n",
    "\n",
    "    # ID new ou old não tem número de apólice\n",
    "    elif df_op_policy.loc[df_op_policy['id'] == int(ids_old_pre_prod[i]), 'txt_policy_number'].isna().all():\n",
    "      erro_7.append(id)\n",
    "    elif df_op_policy.loc[df_op_policy['id'] == int(ids_new_pre_prod[i]), 'txt_policy_number'].isna().all():\n",
    "      erro_8.append(id)\n",
    "\n",
    "    # ID new ou old não tem data de emissão\n",
    "    elif df_op_policy.loc[df_op_policy['id'] == int(ids_old_pre_prod[i]), 'dt_emission'].isna().all():\n",
    "      erro_9.append(id)\n",
    "    elif df_op_policy.loc[df_op_policy['id'] == int(ids_new_pre_prod[i]), 'dt_emission'].isna().all():\n",
    "      erro_10.append(id)\n",
    "\n",
    "    # ID new ou old está deletado logicamente\n",
    "    elif not pd.isnull(df_op_policy.loc[df_op_policy['id'] == int(ids_old_pre_prod[i]), 'dt_logical_delete'].iloc[0]):\n",
    "      erro_13.append(id)\n",
    "    elif not pd.isnull(df_op_policy.loc[df_op_policy['id'] == int(ids_new_pre_prod[i]), 'dt_logical_delete'].iloc[0]):\n",
    "      erro_14.append(id)\n",
    "\n",
    "    # No caso de passar por todas as verificações, é incluído nessa lista para entendermos o motivo\n",
    "    else:\n",
    "      renegados.append(id)\n",
    "\n",
    "# OBS: Adicionamos á lista de logs de erros e ao ID's_vincular o id pre_prod, e não o id_new ou id_old"
   ]
  },
  {
   "cell_type": "markdown",
   "metadata": {
    "application/vnd.databricks.v1+cell": {
     "cellMetadata": {
      "byteLimit": 2048000,
      "rowLimit": 10000
     },
     "inputWidgets": {},
     "nuid": "31e27a94-d2e2-4ff5-bc76-665400e7710b",
     "showTitle": false,
     "title": ""
    }
   },
   "source": [
    "### Logs de erro"
   ]
  },
  {
   "cell_type": "code",
   "execution_count": 0,
   "metadata": {
    "application/vnd.databricks.v1+cell": {
     "cellMetadata": {
      "byteLimit": 2048000,
      "rowLimit": 10000
     },
     "inputWidgets": {},
     "nuid": "361feaff-b985-438b-835d-d624b5daffd2",
     "showTitle": false,
     "title": ""
    }
   },
   "outputs": [
    {
     "output_type": "display_data",
     "data": {
      "text/html": [
       "<style scoped>\n",
       "  .ansiout {\n",
       "    display: block;\n",
       "    unicode-bidi: embed;\n",
       "    white-space: pre-wrap;\n",
       "    word-wrap: break-word;\n",
       "    word-break: break-all;\n",
       "    font-family: \"Menlo\", \"Monaco\", \"Consolas\", \"Ubuntu Mono\", \"Source Code Pro\", monospace;\n",
       "    font-size: 13px;\n",
       "    color: #555;\n",
       "    margin-left: 4px;\n",
       "    line-height: 19px;\n",
       "  }\n",
       "</style>"
      ]
     },
     "metadata": {
      "application/vnd.databricks.v1+output": {
       "arguments": {},
       "data": "",
       "errorSummary": "Command skipped",
       "errorTraceType": "html",
       "metadata": {},
       "type": "ipynbError"
      }
     },
     "output_type": "display_data"
    }
   ],
   "source": [
    "# Colocando as listas com erros dentro do dicionário de log de erros:\n",
    "logs_erros = {}\n",
    "\n",
    "logs_erros[0] = erro_0, [\"ID da renovação consta endossado, mas não está na fila de endossos do ID renovado\"] \n",
    "logs_erros[1] = erro_1, [\"ID da renovação tem renovação vigente sendo renovação\"] \n",
    "logs_erros[2] = erro_2, [\"ID renovado tem renovação vigente sendo o renovado\"] \n",
    "logs_erros[3] = erro_3, [\"ID renovado não pode ser renovado por ter status diferente de: Ativo, expirado ou endossado\"] \n",
    "logs_erros[4] = erro_4, [\"ID da renovação não pode renovar por ter status diferente de: Ativo, expirado ou endossado\"] \n",
    "logs_erros[5] = erro_5, [\"ID renovado é um endosso de cancelamento\"] \n",
    "logs_erros[6] = erro_6, [\"ID da renovação é um endosso de cancelamento\"] \n",
    "logs_erros[7] = erro_7, [\"ID renovado não possui número de apólice\"] \n",
    "logs_erros[8] = erro_8, [\"ID da renovação não possui número de apólice\"] \n",
    "logs_erros[9] = erro_9, [\"ID renovado não possui data de emissão\"] \n",
    "logs_erros[10] = erro_10, [\"ID da renovação não possui data de emissão\"] \n",
    "logs_erros[11] = erro_11, [\"ID renovado não encontrado\"] \n",
    "logs_erros[12] = erro_12, [\"ID da renovação não encontrado\"] \n",
    "logs_erros[13] = erro_13, [\"ID renovado cancelado logicamente\"]\n",
    "logs_erros[14] = erro_14, [\"ID da renovação cancelado logicamente\"]"
   ]
  },
  {
   "cell_type": "code",
   "execution_count": 0,
   "metadata": {
    "application/vnd.databricks.v1+cell": {
     "cellMetadata": {
      "byteLimit": 2048000,
      "rowLimit": 10000
     },
     "inputWidgets": {},
     "nuid": "83f9e3d8-79da-40fa-a09e-d712bc4a76ec",
     "showTitle": false,
     "title": ""
    }
   },
   "outputs": [
    {
     "output_type": "display_data",
     "data": {
      "text/html": [
       "<style scoped>\n",
       "  .ansiout {\n",
       "    display: block;\n",
       "    unicode-bidi: embed;\n",
       "    white-space: pre-wrap;\n",
       "    word-wrap: break-word;\n",
       "    word-break: break-all;\n",
       "    font-family: \"Menlo\", \"Monaco\", \"Consolas\", \"Ubuntu Mono\", \"Source Code Pro\", monospace;\n",
       "    font-size: 13px;\n",
       "    color: #555;\n",
       "    margin-left: 4px;\n",
       "    line-height: 19px;\n",
       "  }\n",
       "</style>"
      ]
     },
     "metadata": {
      "application/vnd.databricks.v1+output": {
       "arguments": {},
       "data": "",
       "errorSummary": "Command skipped",
       "errorTraceType": "html",
       "metadata": {},
       "type": "ipynbError"
      }
     },
     "output_type": "display_data"
    }
   ],
   "source": [
    "# Inserir dados na tabela de logs com erro\n",
    "tabela = \"table_name\"\n",
    "\n",
    "for ids, mensagem_erro in logs_erros.values():\n",
    "  for id in ids:\n",
    "    if id:\n",
    "      id_policy_new = int(df_pre_prod.loc[df_pre_prod['id'] == id, 'id_policy_new'].iloc[0])\n",
    "      id_policy_old = int(df_pre_prod.loc[df_pre_prod['id'] == id, 'id_policy_old'].iloc[0])\n",
    "      dados = {\"id\" : id, \n",
    "              \"id_new\" : id_policy_new, \n",
    "              \"id_old\" : id_policy_old, \n",
    "              \"message_error\" : str(mensagem_erro[0])}\n",
    "      sql_inserir_dados = f\"INSERT INTO {tabela} ({', '.join(dados.keys())}) VALUES ({', '.join(['%s']*len(dados))})\"\n",
    "      cursor.execute(sql_inserir_dados, tuple(dados.values()))\n",
    "      connection.commit()"
   ]
  },
  {
   "cell_type": "markdown",
   "metadata": {
    "application/vnd.databricks.v1+cell": {
     "cellMetadata": {
      "byteLimit": 2048000,
      "rowLimit": 10000
     },
     "inputWidgets": {},
     "nuid": "c10fc48a-a240-45e9-9c35-ff55a9b42d3c",
     "showTitle": false,
     "title": ""
    }
   },
   "source": [
    "### Integração com o Jira"
   ]
  },
  {
   "cell_type": "code",
   "execution_count": 0,
   "metadata": {
    "application/vnd.databricks.v1+cell": {
     "cellMetadata": {
      "byteLimit": 2048000,
      "rowLimit": 10000
     },
     "inputWidgets": {},
     "nuid": "17969b41-023f-49fb-b384-372bcad77383",
     "showTitle": false,
     "title": ""
    }
   },
   "outputs": [
    {
     "output_type": "display_data",
     "data": {
      "text/html": [
       "<style scoped>\n",
       "  .ansiout {\n",
       "    display: block;\n",
       "    unicode-bidi: embed;\n",
       "    white-space: pre-wrap;\n",
       "    word-wrap: break-word;\n",
       "    word-break: break-all;\n",
       "    font-family: \"Menlo\", \"Monaco\", \"Consolas\", \"Ubuntu Mono\", \"Source Code Pro\", monospace;\n",
       "    font-size: 13px;\n",
       "    color: #555;\n",
       "    margin-left: 4px;\n",
       "    line-height: 19px;\n",
       "  }\n",
       "</style>"
      ]
     },
     "metadata": {
      "application/vnd.databricks.v1+output": {
       "arguments": {},
       "data": "",
       "errorSummary": "Command skipped",
       "errorTraceType": "html",
       "metadata": {},
       "type": "ipynbError"
      }
     },
     "output_type": "display_data"
    }
   ],
   "source": [
    "### Configura conexão com o Jira\n",
    "#-----------------------------------------------------------------------------\n",
    "\n",
    "\n",
    "# Construct a Client Instance\n",
    "jiraOptions = {'server': \"https://example.atlassian.net\"}\n",
    "email_id = \"bot_email\"\n",
    "token = \"personal_token\"\n",
    "\n",
    "# Pass the Authentication Parameter\n",
    "jira = JIRA(options=jiraOptions, basic_auth=(email_id, token))"
   ]
  },
  {
   "cell_type": "code",
   "execution_count": 0,
   "metadata": {
    "application/vnd.databricks.v1+cell": {
     "cellMetadata": {
      "byteLimit": 2048000,
      "rowLimit": 10000
     },
     "inputWidgets": {},
     "nuid": "1b56bead-3854-493c-807a-db73796a87a3",
     "showTitle": false,
     "title": ""
    }
   },
   "outputs": [
    {
     "output_type": "display_data",
     "data": {
      "text/html": [
       "<style scoped>\n",
       "  .ansiout {\n",
       "    display: block;\n",
       "    unicode-bidi: embed;\n",
       "    white-space: pre-wrap;\n",
       "    word-wrap: break-word;\n",
       "    word-break: break-all;\n",
       "    font-family: \"Menlo\", \"Monaco\", \"Consolas\", \"Ubuntu Mono\", \"Source Code Pro\", monospace;\n",
       "    font-size: 13px;\n",
       "    color: #555;\n",
       "    margin-left: 4px;\n",
       "    line-height: 19px;\n",
       "  }\n",
       "</style>"
      ]
     },
     "metadata": {
      "application/vnd.databricks.v1+output": {
       "arguments": {},
       "data": "",
       "errorSummary": "Command skipped",
       "errorTraceType": "html",
       "metadata": {},
       "type": "ipynbError"
      }
     },
     "output_type": "display_data"
    }
   ],
   "source": [
    "### Passo a Passo para criação de cards no Jira com logs de erros:\n",
    "\n",
    "# 1. Criar chamado\n",
    "# 2. Atribuir para mim\n",
    "# 3. Atribuir o usuário como relator\n",
    "# 4. Passa para a fila de suporte\n",
    "# 5. Cancelar chamado com mensagem de erro (email automático)\n",
    "  # Campos obrigatórios: Motivo do cancelamento (aberto), Causa Raiz (Solicitação Interna), Comentar (aberto)"
   ]
  },
  {
   "cell_type": "code",
   "execution_count": 0,
   "metadata": {
    "application/vnd.databricks.v1+cell": {
     "cellMetadata": {
      "byteLimit": 2048000,
      "rowLimit": 10000
     },
     "inputWidgets": {},
     "nuid": "3a37fc75-958b-45f9-a96d-43a873c24040",
     "showTitle": false,
     "title": ""
    }
   },
   "outputs": [
    {
     "output_type": "display_data",
     "data": {
      "text/html": [
       "<style scoped>\n",
       "  .ansiout {\n",
       "    display: block;\n",
       "    unicode-bidi: embed;\n",
       "    white-space: pre-wrap;\n",
       "    word-wrap: break-word;\n",
       "    word-break: break-all;\n",
       "    font-family: \"Menlo\", \"Monaco\", \"Consolas\", \"Ubuntu Mono\", \"Source Code Pro\", monospace;\n",
       "    font-size: 13px;\n",
       "    color: #555;\n",
       "    margin-left: 4px;\n",
       "    line-height: 19px;\n",
       "  }\n",
       "</style>"
      ]
     },
     "metadata": {
      "application/vnd.databricks.v1+output": {
       "arguments": {},
       "data": "",
       "errorSummary": "Command skipped",
       "errorTraceType": "html",
       "metadata": {},
       "type": "ipynbError"
      }
     },
     "output_type": "display_data"
    }
   ],
   "source": [
    "# Card no Jira para Logs com erros\n",
    "chamados_erros = {}\n",
    "\n",
    "# Loop for para percorrer o dicionário com erros\n",
    "for ids, mensagem_erro in logs_erros.values():\n",
    "  for id in ids:\n",
    "    # 1. Criar uma nova issue\n",
    "    id_policy_new = int(df_pre_prod.loc[df_pre_prod['id'] == id, 'id_policy_new'].iloc[0])\n",
    "    id_policy_old = int(df_pre_prod.loc[df_pre_prod['id'] == id, 'id_policy_old'].iloc[0])\n",
    "    email_usuario = df_pre_prod.loc[df_pre_prod['id'] == id, 'email_solicitante'].iloc[0]\n",
    "    usuario = df_core_user.loc[df_core_user['txt_email'] == email_usuario, 'txt_name'].iloc[0]\n",
    "    nova_issue = {\n",
    "      'project': {'key': 'ABCD'},  # ABCD : Key do projeto\n",
    "      'summary': f'Vínculo de renovação ID\\'s: {id_policy_old} e {id_policy_new}',\n",
    "      'description': f\"\"\"Solicitação vínculo de renovação: favor vincular ID da renovação {id_policy_new} ao ID renovado {id_policy_old}.\n",
    "      Solicitado por {usuario}.\n",
    "      Avaliado pelo BOT: Vínculo de renovação.\"\"\",\n",
    "      'issuetype': {'name': 'Type'}  # Task : Type\n",
    "    }\n",
    "\n",
    "    issue = jira.create_issue(fields=nova_issue)\n",
    "\n",
    "    time.sleep(1)\n",
    "\n",
    "    # 2. Atribuir a issue para mim\n",
    "    responsavel_nome = 'Username'\n",
    "    jira.assign_issue(issue, responsavel_nome)\n",
    "\n",
    "\n",
    "    # 3. Atribuindo o usuário como relator\n",
    "    issue_key = issue.key # Chave do chamado (issue key)\n",
    "    novo_relator_email = email_usuario # E-mail do novo relator\n",
    "      # Obter informações do usuário usando o e-mail\n",
    "    novo_relator = jira.search_users(query=novo_relator_email)\n",
    "    if novo_relator:\n",
    "        novo_relator_id = novo_relator[0].accountId\n",
    "        # Atualizar o chamado para alterar o relator\n",
    "        jira.issue(issue_key).update(fields={'reporter': {'id': novo_relator_id}})\n",
    "    else:\n",
    "        print(f'Usuário com e-mail {novo_relator_email} não encontrado.')\n",
    "\n",
    "    time.sleep(1)\n",
    "\n",
    "    # 4. Transição para fila de suporte\n",
    "    id_transicao_suporte = 000 # Example\n",
    "    campos_customizados = { \n",
    "        'customfield_XXXXX': {'id': 'XXX'}, # Squad \n",
    "        'customfield_XXXXX': {'id': 'XXX'}, # Fluxo \n",
    "        'customfield_XXXXX': {'id': 'XXX'} # Ação do usuário \n",
    "    }\n",
    "\n",
    "    transicao_args = {\n",
    "      'transition': id_transicao_suporte,\n",
    "      'fields': campos_customizados\n",
    "    }\n",
    "\n",
    "    jira.transition_issue(issue, **transicao_args)\n",
    "\n",
    "    time.sleep(1)\n",
    "\n",
    "    # 5. Cancelar chamado\n",
    "    id_cancelamento = 000\n",
    "    comentario_cancelamento = f\"\"\"Olá {novo_relator_email}, Tudo bem?. \n",
    "    Nossa automação identificou que o vínculo não pôde ser realizado. \n",
    "    O ID da renovação {id_policy_new} não pôde ser vinculado ao ID renovado {id_policy_old} segundo o erro: \n",
    "    {mensagem_erro[0]}\"\"\"\n",
    "\n",
    "    comment = [{'add': {'body': comentario_cancelamento}}]\n",
    "\n",
    "    transicao_args = {\n",
    "        'transition': id_cancelamento,\n",
    "        'comment': comentario_cancelamento\n",
    "    }\n",
    "\n",
    "    jira.transition_issue(issue, **transicao_args)\n",
    "\n",
    "    # Chamado adicionado ao dicionário\n",
    "    chamados_erros[id] = issue.key\n",
    "\n",
    "for chamado in chamados_erros.values():\n",
    "  print(f'Chamado {chamado} criado e cancelado!')"
   ]
  },
  {
   "cell_type": "code",
   "execution_count": 0,
   "metadata": {
    "application/vnd.databricks.v1+cell": {
     "cellMetadata": {
      "byteLimit": 2048000,
      "rowLimit": 10000
     },
     "inputWidgets": {},
     "nuid": "896bb536-771b-4a13-a518-f55f706861b8",
     "showTitle": false,
     "title": ""
    }
   },
   "outputs": [
    {
     "output_type": "display_data",
     "data": {
      "text/html": [
       "<style scoped>\n",
       "  .ansiout {\n",
       "    display: block;\n",
       "    unicode-bidi: embed;\n",
       "    white-space: pre-wrap;\n",
       "    word-wrap: break-word;\n",
       "    word-break: break-all;\n",
       "    font-family: \"Menlo\", \"Monaco\", \"Consolas\", \"Ubuntu Mono\", \"Source Code Pro\", monospace;\n",
       "    font-size: 13px;\n",
       "    color: #555;\n",
       "    margin-left: 4px;\n",
       "    line-height: 19px;\n",
       "  }\n",
       "</style>"
      ]
     },
     "metadata": {
      "application/vnd.databricks.v1+output": {
       "arguments": {},
       "data": "",
       "errorSummary": "Command skipped",
       "errorTraceType": "html",
       "metadata": {},
       "type": "ipynbError"
      }
     },
     "output_type": "display_data"
    }
   ],
   "source": [
    "# Inserir id_pre_prod na tabela de processados com Status = 3 (erro)\n",
    "tabela = \"table_name\"\n",
    "\n",
    "for id in chamados_erros.keys():\n",
    "  if id:\n",
    "    chave_chamado = chamados_erros[id]\n",
    "    dados = {\"id\" : id, \n",
    "            \"status\" : 3, # Status 3 = erro identificado \n",
    "            \"chave_chamado\" : chave_chamado} \n",
    "    sql_inserir_dados = f\"INSERT INTO {tabela} ({', '.join(dados.keys())}) VALUES ({', '.join(['%s']*len(dados))})\"\n",
    "    cursor.execute(sql_inserir_dados, tuple(dados.values()))\n",
    "    connection.commit()"
   ]
  },
  {
   "cell_type": "code",
   "execution_count": 0,
   "metadata": {
    "application/vnd.databricks.v1+cell": {
     "cellMetadata": {
      "byteLimit": 2048000,
      "rowLimit": 10000
     },
     "inputWidgets": {},
     "nuid": "a8c84346-a4b4-4292-a9b9-35cebc0583f8",
     "showTitle": false,
     "title": ""
    }
   },
   "outputs": [
    {
     "output_type": "display_data",
     "data": {
      "text/html": [
       "<style scoped>\n",
       "  .ansiout {\n",
       "    display: block;\n",
       "    unicode-bidi: embed;\n",
       "    white-space: pre-wrap;\n",
       "    word-wrap: break-word;\n",
       "    word-break: break-all;\n",
       "    font-family: \"Menlo\", \"Monaco\", \"Consolas\", \"Ubuntu Mono\", \"Source Code Pro\", monospace;\n",
       "    font-size: 13px;\n",
       "    color: #555;\n",
       "    margin-left: 4px;\n",
       "    line-height: 19px;\n",
       "  }\n",
       "</style>"
      ]
     },
     "metadata": {
      "application/vnd.databricks.v1+output": {
       "arguments": {},
       "data": "",
       "errorSummary": "Command skipped",
       "errorTraceType": "html",
       "metadata": {},
       "type": "ipynbError"
      }
     },
     "output_type": "display_data"
    }
   ],
   "source": [
    "### Passo a Passo para criação de cards no Jira com vínculos a serem feitos\n",
    "\n",
    "# 1. Criar chamado\n",
    "# 2. Atribuir para mim\n",
    "# 3. Atribuir o usuário como relator\n",
    "# 4. Passar para \"Fila de suporte\" e depois passar para \"Em andamento\"\n",
    "  # Preencher campos obrigatórios: fluxo, ação do usuário e squad\n",
    "# 5. Registrar mensagem: \"Vincular id_new ao id_old no operational_policy_renew. Nossa automação já está trabalhando nisso\"\n",
    "# 6. Após merge ser criado, passar chamado para \"Aguardando deploy\"\n",
    "# 7. Após merge ser realizado, concluir chamado"
   ]
  },
  {
   "cell_type": "code",
   "execution_count": 0,
   "metadata": {
    "application/vnd.databricks.v1+cell": {
     "cellMetadata": {
      "byteLimit": 2048000,
      "rowLimit": 10000
     },
     "inputWidgets": {},
     "nuid": "40155208-af69-451c-b7b0-d4bb3a32b7b0",
     "showTitle": false,
     "title": ""
    }
   },
   "outputs": [
    {
     "output_type": "display_data",
     "data": {
      "text/html": [
       "<style scoped>\n",
       "  .ansiout {\n",
       "    display: block;\n",
       "    unicode-bidi: embed;\n",
       "    white-space: pre-wrap;\n",
       "    word-wrap: break-word;\n",
       "    word-break: break-all;\n",
       "    font-family: \"Menlo\", \"Monaco\", \"Consolas\", \"Ubuntu Mono\", \"Source Code Pro\", monospace;\n",
       "    font-size: 13px;\n",
       "    color: #555;\n",
       "    margin-left: 4px;\n",
       "    line-height: 19px;\n",
       "  }\n",
       "</style>"
      ]
     },
     "metadata": {
      "application/vnd.databricks.v1+output": {
       "arguments": {},
       "data": "",
       "errorSummary": "Command skipped",
       "errorTraceType": "html",
       "metadata": {},
       "type": "ipynbError"
      }
     },
     "output_type": "display_data"
    }
   ],
   "source": [
    "# Card no Jira para vínculos a serem feitos\n",
    "chamados = {}\n",
    "\n",
    "# Loop for para percorrer a lista com os ID's a serem vinculado\n",
    "for id in IDs_vincular:\n",
    "  # 1. Criar uma nova issue\n",
    "  id_policy_new = int(df_pre_prod.loc[df_pre_prod['id'] == id, 'id_policy_new'].iloc[0])\n",
    "  id_policy_old = int(df_pre_prod.loc[df_pre_prod['id'] == id, 'id_policy_old'].iloc[0])\n",
    "  email_usuario = df_pre_prod.loc[df_pre_prod['id'] == id, 'email_solicitante'].iloc[0]\n",
    "  usuario = df_core_user.loc[df_core_user['txt_email'] == email_usuario, 'txt_name'].iloc[0]\n",
    "  nova_issue = {\n",
    "    'project': {'key': 'ABCD'},  # ABCD : Key do projeto\n",
    "    'summary': f'Vínculo de renovação ID\\'s: {id_policy_old} e {id_policy_new}',\n",
    "    'description': f\"\"\"Solicitação vínculo de renovação: favor vincular ID da renovação {id_policy_new} ao ID renovado {id_policy_old}.\n",
    "    Solicitado por {usuario}.\n",
    "    Avaliado pelo BOT: Vínculo de renovação.\"\"\",\n",
    "    'issuetype': {'name': 'Type'}  # Task : Type\n",
    "    }\n",
    "  }\n",
    "\n",
    "  issue = jira.create_issue(fields=nova_issue)\n",
    "\n",
    "  time.sleep(1)\n",
    "\n",
    "  # 2. Atribuir a issue para mim\n",
    "  responsavel_nome = 'Username'\n",
    "  jira.assign_issue(issue, responsavel_nome)\n",
    "\n",
    "\n",
    "  # 3. Atribuindo o usuário como relator\n",
    "  issue_key = issue.key # Chave do chamado (issue key)\n",
    "  novo_relator_email = email_usuario # E-mail do novo relator\n",
    "    # Obter informações do usuário usando o e-mail\n",
    "  novo_relator = jira.search_users(query=novo_relator_email)\n",
    "  if novo_relator:\n",
    "      novo_relator_id = novo_relator[0].accountId\n",
    "      # Atualizar o chamado para alterar o relator\n",
    "      jira.issue(issue_key).update(fields={'reporter': {'id': novo_relator_id}})\n",
    "  else:\n",
    "      print(f'Usuário com e-mail {novo_relator_email} não encontrado.')\n",
    "\n",
    "  time.sleep(1)\n",
    "\n",
    "  # 4. Transição para fila de suporte\n",
    "  id_transicao_suporte = 000\n",
    "  campos_customizados = { \n",
    "      'customfield_XXXXX': {'id': 'XXXXX'}, # Squad \n",
    "      'customfield_XXXXX': {'id': 'XXXXX'}, # Fluxo \n",
    "      'customfield_XXXXX': {'id': 'XXXXX'} # Ação do usuário \n",
    "  }\n",
    "\n",
    "  transicao_args = {\n",
    "    'transition': id_transicao_suporte,\n",
    "    'fields': campos_customizados\n",
    "  }\n",
    "\n",
    "  jira.transition_issue(issue, **transicao_args)\n",
    "\n",
    "  time.sleep(1)\n",
    "\n",
    "  # 5. Colocar chamado em andamento e adicionar mensagem\n",
    "  id_transicao_em_andamento = 00\n",
    "  jira.transition_issue(issue, id_transicao_em_andamento)\n",
    "\n",
    "    # Nova mensagem para atestar que está em andamento  \n",
    "  comentario_andamento = f'O ID da renovação {id_policy_new} está sendo vinculado ao ID renovado {id_policy_old}. Nossa automação está trabalhando nesse processo, informaremos quando for finalizado.'\n",
    "  jira.add_comment(issue, comentario_andamento)\n",
    "\n",
    "  # Chamado adicionado ao dicionário\n",
    "  chamados[id] = issue.key\n",
    "\n",
    "\n",
    "for chamado in chamados.values():\n",
    "  print(f'Card {chamado} aberto e em andamento')\n",
    "\n",
    "# Chamado para nesse estágio. Após criação do merge request, o chamado passa para \"Aguardando deploy\" e após ser mergeado, é concluído."
   ]
  },
  {
   "cell_type": "markdown",
   "metadata": {
    "application/vnd.databricks.v1+cell": {
     "cellMetadata": {
      "byteLimit": 2048000,
      "rowLimit": 10000
     },
     "inputWidgets": {},
     "nuid": "7e806cd7-a7fd-4004-ab04-43797a579440",
     "showTitle": false,
     "title": ""
    }
   },
   "source": [
    "###Conexão com o gitlab"
   ]
  },
  {
   "cell_type": "code",
   "execution_count": 0,
   "metadata": {
    "application/vnd.databricks.v1+cell": {
     "cellMetadata": {
      "byteLimit": 2048000,
      "rowLimit": 10000
     },
     "inputWidgets": {},
     "nuid": "1e9cf416-2d19-4088-950b-1244fdcf6d10",
     "showTitle": false,
     "title": ""
    }
   },
   "outputs": [
    {
     "output_type": "display_data",
     "data": {
      "text/html": [
       "<style scoped>\n",
       "  .ansiout {\n",
       "    display: block;\n",
       "    unicode-bidi: embed;\n",
       "    white-space: pre-wrap;\n",
       "    word-wrap: break-word;\n",
       "    word-break: break-all;\n",
       "    font-family: \"Menlo\", \"Monaco\", \"Consolas\", \"Ubuntu Mono\", \"Source Code Pro\", monospace;\n",
       "    font-size: 13px;\n",
       "    color: #555;\n",
       "    margin-left: 4px;\n",
       "    line-height: 19px;\n",
       "  }\n",
       "</style>"
      ]
     },
     "metadata": {
      "application/vnd.databricks.v1+output": {
       "arguments": {},
       "data": "",
       "errorSummary": "Command skipped",
       "errorTraceType": "html",
       "metadata": {},
       "type": "ipynbError"
      }
     },
     "output_type": "display_data"
    }
   ],
   "source": [
    "### Configura conexão com o Gitlab\n",
    "#-----------------------------------------------------------------------------\n",
    "\n",
    "\n",
    "# Configurações\n",
    "gitlab_url = r\"https://gitlab.com\"\n",
    "support_project_id = \"project_id\" \n",
    "gitlab_token = \"personal_token\"\n",
    "\n",
    "# Crie uma instância da classe Gitlab\n",
    "gl = gitlab.Gitlab(gitlab_url, private_token=gitlab_token)\n",
    "\n",
    "# Autentique-se no GitLab\n",
    "gl.auth()\n",
    "\n",
    "# Lendo o projeto em que fazemos update\n",
    "project = gl.projects.get(support_project_id)"
   ]
  },
  {
   "cell_type": "code",
   "execution_count": 0,
   "metadata": {
    "application/vnd.databricks.v1+cell": {
     "cellMetadata": {
      "byteLimit": 2048000,
      "rowLimit": 10000
     },
     "inputWidgets": {},
     "nuid": "8db7046a-4082-4598-a8df-7846f2d1feee",
     "showTitle": false,
     "title": ""
    }
   },
   "outputs": [
    {
     "output_type": "display_data",
     "data": {
      "text/html": [
       "<style scoped>\n",
       "  .ansiout {\n",
       "    display: block;\n",
       "    unicode-bidi: embed;\n",
       "    white-space: pre-wrap;\n",
       "    word-wrap: break-word;\n",
       "    word-break: break-all;\n",
       "    font-family: \"Menlo\", \"Monaco\", \"Consolas\", \"Ubuntu Mono\", \"Source Code Pro\", monospace;\n",
       "    font-size: 13px;\n",
       "    color: #555;\n",
       "    margin-left: 4px;\n",
       "    line-height: 19px;\n",
       "  }\n",
       "</style>"
      ]
     },
     "metadata": {
      "application/vnd.databricks.v1+output": {
       "arguments": {},
       "data": "",
       "errorSummary": "Command skipped",
       "errorTraceType": "html",
       "metadata": {},
       "type": "ipynbError"
      }
     },
     "output_type": "display_data"
    }
   ],
   "source": [
    "# Informações de data e hora do changeset (Query Head)\n",
    "agora = datetime.now()\n",
    "formato = \"%Y-%m-%d-%H%M\"\n",
    "data_hora_formatada = agora.strftime(formato)\n",
    "\n",
    "data_hora_formatada"
   ]
  },
  {
   "cell_type": "code",
   "execution_count": 0,
   "metadata": {
    "application/vnd.databricks.v1+cell": {
     "cellMetadata": {
      "byteLimit": 2048000,
      "rowLimit": 10000
     },
     "inputWidgets": {},
     "nuid": "0fd51d3e-731e-4e00-86a6-ead0577be700",
     "showTitle": false,
     "title": ""
    }
   },
   "outputs": [
    {
     "output_type": "display_data",
     "data": {
      "text/html": [
       "<style scoped>\n",
       "  .ansiout {\n",
       "    display: block;\n",
       "    unicode-bidi: embed;\n",
       "    white-space: pre-wrap;\n",
       "    word-wrap: break-word;\n",
       "    word-break: break-all;\n",
       "    font-family: \"Menlo\", \"Monaco\", \"Consolas\", \"Ubuntu Mono\", \"Source Code Pro\", monospace;\n",
       "    font-size: 13px;\n",
       "    color: #555;\n",
       "    margin-left: 4px;\n",
       "    line-height: 19px;\n",
       "  }\n",
       "</style>"
      ]
     },
     "metadata": {
      "application/vnd.databricks.v1+output": {
       "arguments": {},
       "data": "",
       "errorSummary": "Command skipped",
       "errorTraceType": "html",
       "metadata": {},
       "type": "ipynbError"
      }
     },
     "output_type": "display_data"
    }
   ],
   "source": [
    "### Passo a Passo para fase de criação do Merge Request\n",
    "\n",
    "# 1. Pegar as principais informações do chamado necessárias no processo:\n",
    "  # Chave do chamado, título do chamado e título tratado\n",
    "# 2. Criação da branch\n",
    "# 3. Set nome do arquivo para o commit\n",
    "# 4. Set o head da query\n",
    "# 5. Gerador da query\n",
    "  # Verificar se status id_old = 18 e type_solicitation id_new = 108 (se não, update)\n",
    "# 6. Criação do Commit\n",
    "# 7. Criação do Merge Request\n",
    "# 8. Colocar chamados como 'Aguardando deploy'\n",
    "# 9. Inserir id_pre_prod na tabela de processados com status = 1"
   ]
  },
  {
   "cell_type": "code",
   "execution_count": 0,
   "metadata": {
    "application/vnd.databricks.v1+cell": {
     "cellMetadata": {
      "byteLimit": 2048000,
      "rowLimit": 10000
     },
     "inputWidgets": {},
     "nuid": "0952dcbb-9dab-4fad-a090-2667131a71a8",
     "showTitle": false,
     "title": ""
    }
   },
   "outputs": [
    {
     "output_type": "display_data",
     "data": {
      "text/html": [
       "<style scoped>\n",
       "  .ansiout {\n",
       "    display: block;\n",
       "    unicode-bidi: embed;\n",
       "    white-space: pre-wrap;\n",
       "    word-wrap: break-word;\n",
       "    word-break: break-all;\n",
       "    font-family: \"Menlo\", \"Monaco\", \"Consolas\", \"Ubuntu Mono\", \"Source Code Pro\", monospace;\n",
       "    font-size: 13px;\n",
       "    color: #555;\n",
       "    margin-left: 4px;\n",
       "    line-height: 19px;\n",
       "  }\n",
       "</style>"
      ]
     },
     "metadata": {
      "application/vnd.databricks.v1+output": {
       "arguments": {},
       "data": "",
       "errorSummary": "Command skipped",
       "errorTraceType": "html",
       "metadata": {},
       "type": "ipynbError"
      }
     },
     "output_type": "display_data"
    }
   ],
   "source": [
    "# Criação do Merge Request (famoso PR ou MR)\n",
    "\n",
    "for id in chamados.keys():\n",
    "  # 1. Pegando infos principais do chamado para o merge\n",
    "  singleIssue = jira.issue(chamados[id])\n",
    "  chave_chamado = singleIssue.key\n",
    "  titulo_chamado = singleIssue.fields.summary\n",
    "  branch_name = f.trata_branch_name(titulo_chamado)\n",
    "  head_query_title = f.trata_head_query_title(titulo_chamado)\n",
    "\n",
    "\n",
    "  # 2.Criação da branch\n",
    "  branch_name = f'type/{chave_chamado}-{branch_name}'\n",
    "\n",
    "  branch = project.branches.create({'branch': branch_name,\n",
    "                                  'ref': 'master'})\n",
    "  \n",
    "  time.sleep(1)\n",
    "\n",
    "  # 3. Set arquivo\n",
    "  arquivo_changes = f'file_name/{data_hora_formatada}-{branch_name}.sql'\n",
    "\n",
    "\n",
    "  # 4. Set query head\n",
    "  query_head =f'''-- tool formatted sql\n",
    "-- changeset name lastname:{data_hora_formatada}\n",
    "-- comment [{chave_chamado}] {head_query_title}'''\n",
    "\n",
    "\n",
    "  # 5. Gerador da query\n",
    "    # Infos para a query\n",
    "  id_policy_new = int(df_pre_prod.loc[df_pre_prod['id'] == id, 'id_policy_new'].iloc[0])\n",
    "  id_policy_old = int(df_pre_prod.loc[df_pre_prod['id'] == id, 'id_policy_old'].iloc[0])\n",
    "  email_usuario = df_pre_prod.loc[df_pre_prod['id'] == id, 'email_solicitante'].iloc[0]\n",
    "  id_user = df_core_user.loc[df_core_user['txt_email'] == email_usuario, 'id'].iloc[0]\n",
    "  status_id_old = int(df_op_policy.loc[df_op_policy['id'] == id_policy_old, 'Status'].iloc[0])\n",
    "  type_id_new = int(df_op_policy.loc[df_op_policy['id'] == id_policy_new, 'id_enum_type_solicitation'].iloc[0])\n",
    "\n",
    "    # Geradores\n",
    "  if status_id_old == 18 and type_id_new == 108:\n",
    "    query_vinculo = f.query_renovacao(id_policy_old, id_policy_new, id_user)\n",
    "  elif not status_id_old == 18 and type_id_new == 108:\n",
    "    query_vinculo = f.query_renovacao_status(id_policy_old, id_policy_new, id_user, status_id_old)\n",
    "  elif status_id_old == 18 and not type_id_new == 108:\n",
    "    query_vinculo = f.query_renovacao_type(id_policy_old, id_policy_new, id_user, type_id_new)\n",
    "  elif not status_id_old == 18 and not type_id_new == 108:\n",
    "    query_vinculo = f.query_renovacao_status_type(id_policy_old, id_policy_new, id_user, status_id_old, type_id_new)\n",
    "  \n",
    "    # Concatenar query com a head\n",
    "  query_completa = query_head + '\\n\\n' + query_vinculo\n",
    "\n",
    "  time.sleep(1)\n",
    "\n",
    "  # 6. Fazendo commit dentro da branch\n",
    "  data = {\n",
    "      'branch': branch_name,\n",
    "      'commit_message': f'[{chave_chamado}] {head_query_title}',\n",
    "      'actions': [\n",
    "          {\n",
    "              'action': 'create',\n",
    "              'file_path': arquivo_changes,\n",
    "              'content': query_completa,\n",
    "          }\n",
    "      ]\n",
    "  }\n",
    "\n",
    "  commit = project.commits.create(data)\n",
    "\n",
    "  time.sleep(1)\n",
    "\n",
    "  # 7. Merge Request\n",
    "  mr = project.mergerequests.create({'source_branch': branch_name,\n",
    "                                   'target_branch': 'master',\n",
    "                                   'title': f'[{chave_chamado}] {head_query_title}',\n",
    "                                   'labels': ['bot-renovacao']})\n",
    "  \n",
    "  time.sleep(1)\n",
    "    # Adiciona descrição ao merge\n",
    "  mr.description = f'Vincular id_new {id_policy_new} ao id_old {id_policy_old}. By: BOT Vínculo de renovação'\n",
    "\n",
    "    # Atribui o merge para mim\n",
    "  mr.assignee_id = gl.user.id\n",
    "\n",
    "  time.sleep(1)\n",
    "    # Adiciona reviewers ao merge\n",
    "  reviewers_id = [00000000, 00000000, 00000000, 00000000, 00000000, 00000000, 00000000, 00000000]\n",
    "    # Reviewers ID's\n",
    "  mr.reviewer_ids = reviewers_id\n",
    "  mr.save()\n",
    "\n",
    "  time.sleep(1)\n",
    "\n",
    "  # 8. Colocar chamados em aguardando deploy\n",
    "  issue = chamados[id]\n",
    "  id_aguardando_deploy = 000\n",
    "\n",
    "  jira.transition_issue(issue, id_aguardando_deploy)\n",
    "\n",
    "\n",
    "  # 9. Inserir id_pre_prod na tabela de processados com status = 1 (Aguardando deploy)\n",
    "  tabela = 'table_name'\n",
    "  mr_iid = mr.iid\n",
    "\n",
    "  dados = {\n",
    "        \"id\" : id, \n",
    "        \"status\" : 1, # Status 1 = aguardando deploy \n",
    "        \"chave_chamado\" : issue,\n",
    "        \"iid_merge_request\" : mr_iid}\n",
    "  sql_inserir_dados = f\"INSERT INTO {tabela} ({', '.join(dados.keys())}) VALUES ({', '.join(['%s']*len(dados))})\"\n",
    "  cursor.execute(sql_inserir_dados, tuple(dados.values()))\n",
    "  connection.commit()\n",
    "\n",
    "  time.sleep(1)\n",
    "\n",
    "# Fechar conexão MySQL\n",
    "connection.close()"
   ]
  }
 ],
 "metadata": {
  "application/vnd.databricks.v1+notebook": {
   "dashboards": [],
   "language": "python",
   "notebookMetadata": {
    "pythonIndentUnit": 2
   },
   "notebookName": "Vínculo de renovação",
   "widgets": {}
  }
 },
 "nbformat": 4,
 "nbformat_minor": 0
}
